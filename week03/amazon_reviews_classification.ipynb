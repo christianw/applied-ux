{
 "cells": [
  {
   "cell_type": "code",
   "execution_count": null,
   "id": "323e820f",
   "metadata": {
    "id": "323e820f"
   },
   "outputs": [],
   "source": [
    "import pandas as pd"
   ]
  },
  {
   "cell_type": "markdown",
   "id": "oQNP61hKDs4f",
   "metadata": {
    "id": "oQNP61hKDs4f"
   },
   "source": [
    "Download the data containing Amazon reviews, `low_memory=False` is used for detecting the correct data types"
   ]
  },
  {
   "cell_type": "code",
   "execution_count": null,
   "id": "9ee1c9f7",
   "metadata": {
    "id": "9ee1c9f7"
   },
   "outputs": [],
   "source": [
    "df = pd.read_csv(\"https://github.com/christianw/applied-ux/raw/main/week03/amazon_reviews.csv.xz\", low_memory=False)"
   ]
  },
  {
   "cell_type": "markdown",
   "id": "1Ok1IBa1D0H1",
   "metadata": {
    "id": "1Ok1IBa1D0H1"
   },
   "source": [
    "Calculate how often the different products appear, only the top ones"
   ]
  },
  {
   "cell_type": "code",
   "execution_count": null,
   "id": "kdrKh0WS_wv8",
   "metadata": {
    "colab": {
     "base_uri": "https://localhost:8080/"
    },
    "id": "kdrKh0WS_wv8",
    "outputId": "7b7a7f68-23d4-4de8-a7aa-2e7050ab63eb"
   },
   "outputs": [],
   "source": [
    "df[\"name\"].value_counts().head()"
   ]
  },
  {
   "cell_type": "markdown",
   "id": "opnqP74xEkar",
   "metadata": {
    "id": "opnqP74xEkar"
   },
   "source": [
    "Create a mask for the product reviews we are interested in. The mask contains `True` for reviews which talk about `Fire Tablet, 7 Display, Wi-Fi, 8 GB - Includes Special Offers, Magenta`, in all other cases, it contains `False`"
   ]
  },
  {
   "cell_type": "code",
   "execution_count": null,
   "id": "47490b51",
   "metadata": {
    "id": "47490b51"
   },
   "outputs": [],
   "source": [
    "pos_mask = df[\"name\"] == \"Fire Tablet, 7 Display, Wi-Fi, 8 GB - Includes Special Offers, Magenta\""
   ]
  },
  {
   "cell_type": "code",
   "execution_count": null,
   "id": "5bo-QTAaFF7s",
   "metadata": {
    "colab": {
     "base_uri": "https://localhost:8080/"
    },
    "id": "5bo-QTAaFF7s",
    "outputId": "d28a501c-65e8-4355-80aa-e17d2709a326"
   },
   "outputs": [],
   "source": [
    "pos_mask.value_counts()"
   ]
  },
  {
   "cell_type": "markdown",
   "id": "QEE9Q-5QE2Ld",
   "metadata": {
    "id": "QEE9Q-5QE2Ld"
   },
   "source": [
    "Let's find the reviews which contain the `Fire Tablet, 7 Display, Wi-Fi, 8 GB - Includes Special Offers, Magenta` and put them in a `DataFrame` called `pos`. Set the column `ft7` to the value `1` in this dataframe"
   ]
  },
  {
   "cell_type": "code",
   "execution_count": null,
   "id": "6298e6ec",
   "metadata": {
    "id": "6298e6ec"
   },
   "outputs": [],
   "source": [
    "pos = df[pos_mask].copy()\n",
    "pos[\"ft7\"] = 1"
   ]
  },
  {
   "cell_type": "markdown",
   "id": "6TxN3OULGAEt",
   "metadata": {
    "id": "6TxN3OULGAEt"
   },
   "source": [
    "Find the length of the dataset containing the reviews about the `Fire Tablet, 7 Display, Wi-Fi, 8 GB - Includes Special Offers, Magenta`"
   ]
  },
  {
   "cell_type": "code",
   "execution_count": null,
   "id": "3eec5b7c",
   "metadata": {
    "colab": {
     "base_uri": "https://localhost:8080/"
    },
    "id": "3eec5b7c",
    "outputId": "d1827571-198f-4041-b814-69e719fc5f8b"
   },
   "outputs": [],
   "source": [
    "len(pos)"
   ]
  },
  {
   "cell_type": "markdown",
   "id": "tFIc4VP_GHtS",
   "metadata": {
    "id": "tFIc4VP_GHtS"
   },
   "source": [
    "Invert the mask with `~` to find the negative examples. Set the value of our target to `0` as these reviews do not talk about `Fire Tablet, 7 Display, Wi-Fi, 8 GB - Includes Special Offers, Magenta`"
   ]
  },
  {
   "cell_type": "code",
   "execution_count": null,
   "id": "3523fb69",
   "metadata": {
    "id": "3523fb69"
   },
   "outputs": [],
   "source": [
    "neg = df[~pos_mask].copy()\n",
    "neg[\"ft7\"] = 0"
   ]
  },
  {
   "cell_type": "markdown",
   "id": "i0_9mavkGcN-",
   "metadata": {
    "id": "i0_9mavkGcN-"
   },
   "source": [
    "Find the length of this dataset:"
   ]
  },
  {
   "cell_type": "code",
   "execution_count": null,
   "id": "28756db2",
   "metadata": {
    "colab": {
     "base_uri": "https://localhost:8080/"
    },
    "id": "28756db2",
    "outputId": "c7bdb84a-0c83-4a37-f428-77f676ec8164"
   },
   "outputs": [],
   "source": [
    "len(neg)"
   ]
  },
  {
   "cell_type": "markdown",
   "id": "NhHYrj_2Gfl_",
   "metadata": {
    "id": "NhHYrj_2Gfl_"
   },
   "source": [
    "Build a new dataset which contains the same amount of positive and negative samples by drawing a random amount of data from the `neg` dataset which is larger than the `pos` dataset. The `random_state` is used to get reproducible results."
   ]
  },
  {
   "cell_type": "code",
   "execution_count": null,
   "id": "2147ed04",
   "metadata": {
    "id": "2147ed04"
   },
   "outputs": [],
   "source": [
    "labeled = pd.concat([pos, neg.sample(len(pos), random_state=42)])"
   ]
  },
  {
   "cell_type": "markdown",
   "id": "M1WhOwdFGzmO",
   "metadata": {
    "id": "M1WhOwdFGzmO"
   },
   "source": [
    "Create the vectorizer for the vectorizing the text data. `ngram_range` selects single tokens (=words) and combinations of two tokens (so-called bigrams). `max_df` removes words which appear too often (in more than 70% of the documents), `min_df` only uses words which appear at least three times."
   ]
  },
  {
   "cell_type": "code",
   "execution_count": null,
   "id": "4f2b7100",
   "metadata": {
    "colab": {
     "base_uri": "https://localhost:8080/"
    },
    "id": "4f2b7100",
    "outputId": "9bc45c67-16ec-4c7d-b5dd-7b9549586e41"
   },
   "outputs": [],
   "source": [
    "from spacy.lang.en.stop_words import STOP_WORDS as stop_words\n",
    "from sklearn.feature_extraction.text import TfidfVectorizer\n",
    "tfidf = TfidfVectorizer(ngram_range=(1,2), stop_words=list(stop_words), \n",
    "                        max_df=0.7, min_df=3)"
   ]
  },
  {
   "cell_type": "markdown",
   "id": "knwIUhHHHcon",
   "metadata": {
    "id": "knwIUhHHHcon"
   },
   "source": [
    "Perform the vectorization by calculating the document-term-matrix."
   ]
  },
  {
   "cell_type": "code",
   "execution_count": null,
   "id": "YDXMG3xSG6Ah",
   "metadata": {
    "id": "YDXMG3xSG6Ah"
   },
   "outputs": [],
   "source": [
    "tfidf_vectors = tfidf.fit_transform(labeled[\"reviews.text\"].map(str))"
   ]
  },
  {
   "cell_type": "markdown",
   "id": "rd61ENRPHhUT",
   "metadata": {
    "id": "rd61ENRPHhUT"
   },
   "source": [
    "Get the dimensions of the document-term matrix"
   ]
  },
  {
   "cell_type": "code",
   "execution_count": null,
   "id": "FoA-Bh5vBNtR",
   "metadata": {
    "colab": {
     "base_uri": "https://localhost:8080/"
    },
    "id": "FoA-Bh5vBNtR",
    "outputId": "cc0fc7c5-86b4-4936-a2c1-72535625afe7"
   },
   "outputs": [],
   "source": [
    "tfidf_vectors.shape"
   ]
  },
  {
   "cell_type": "markdown",
   "id": "6iET2FQwHoJD",
   "metadata": {
    "id": "6iET2FQwHoJD"
   },
   "source": [
    "Rename the variables as shortcut. The document-term matrix is called `X` and is the independent variable, whereas the target (whether the review is about `ft7` or not) is the dependent variable and is called `Y`."
   ]
  },
  {
   "cell_type": "code",
   "execution_count": null,
   "id": "szOEsU8fBHti",
   "metadata": {
    "id": "szOEsU8fBHti"
   },
   "outputs": [],
   "source": [
    "X = tfidf_vectors\n",
    "Y = labeled[\"ft7\"]"
   ]
  },
  {
   "cell_type": "markdown",
   "id": "QkncuPwhH7ni",
   "metadata": {
    "id": "QkncuPwhH7ni"
   },
   "source": [
    "Perform the split of the labeled data in to training and test data with the fraction `0.75/0.25`"
   ]
  },
  {
   "cell_type": "code",
   "execution_count": null,
   "id": "8U0gQ2TeHnBK",
   "metadata": {
    "id": "8U0gQ2TeHnBK"
   },
   "outputs": [],
   "source": [
    "from sklearn.model_selection import train_test_split\n",
    "\n",
    "X_train, X_test, Y_train, Y_test = \\\n",
    "        train_test_split(X, Y, test_size=0.25, random_state=42)"
   ]
  },
  {
   "cell_type": "markdown",
   "id": "vUVmUY1gIF5I",
   "metadata": {
    "id": "vUVmUY1gIF5I"
   },
   "source": [
    "Create the model. `loss='hinge'` uses a SVM."
   ]
  },
  {
   "cell_type": "code",
   "execution_count": null,
   "id": "f0217c01",
   "metadata": {
    "colab": {
     "base_uri": "https://localhost:8080/",
     "height": 75
    },
    "id": "f0217c01",
    "outputId": "33deddb8-ddcc-4a8a-e566-5263d400e016"
   },
   "outputs": [],
   "source": [
    "from sklearn.linear_model import SGDClassifier\n",
    "from sklearn.svm import SVC\n",
    "\n",
    "clf = SGDClassifier(loss='hinge', max_iter=1000, tol=1e-3, random_state=42)\n",
    "#clf = SVC(kernel='linear', random_state=42)\n",
    "#clf = SVC(random_state=42)"
   ]
  },
  {
   "cell_type": "markdown",
   "id": "GFdVI8YkIbyD",
   "metadata": {
    "id": "GFdVI8YkIbyD"
   },
   "source": [
    "Train the model"
   ]
  },
  {
   "cell_type": "code",
   "execution_count": null,
   "id": "6Jg7PKUmIrJj",
   "metadata": {
    "colab": {
     "base_uri": "https://localhost:8080/",
     "height": 75
    },
    "id": "6Jg7PKUmIrJj",
    "outputId": "876c89f2-5c35-49b9-e799-59a23efafd69"
   },
   "outputs": [],
   "source": [
    "clf.fit(X_train, Y_train)"
   ]
  },
  {
   "cell_type": "markdown",
   "id": "on16X6ciIaFe",
   "metadata": {
    "id": "on16X6ciIaFe"
   },
   "source": [
    "Predict the values of the test dataset"
   ]
  },
  {
   "cell_type": "code",
   "execution_count": null,
   "id": "2fc6133d",
   "metadata": {
    "id": "2fc6133d"
   },
   "outputs": [],
   "source": [
    "Y_predicted = clf.predict(X_test)"
   ]
  },
  {
   "cell_type": "markdown",
   "id": "CgQWsx1eKGXY",
   "metadata": {
    "id": "CgQWsx1eKGXY"
   },
   "source": [
    "Calculate the performance metrics of the classifier"
   ]
  },
  {
   "cell_type": "code",
   "execution_count": null,
   "id": "4e6d8e49",
   "metadata": {
    "colab": {
     "base_uri": "https://localhost:8080/"
    },
    "id": "4e6d8e49",
    "outputId": "cec442d7-1a07-4f65-e3aa-b762d926ae93"
   },
   "outputs": [],
   "source": [
    "from sklearn import metrics\n",
    "print(metrics.classification_report(Y_test, Y_predicted))"
   ]
  },
  {
   "cell_type": "code",
   "execution_count": null,
   "id": "bce98a61",
   "metadata": {
    "id": "bce98a61"
   },
   "outputs": [],
   "source": []
  }
 ],
 "metadata": {
  "colab": {
   "provenance": []
  },
  "kernelspec": {
   "display_name": "Python 3 (ipykernel)",
   "language": "python",
   "name": "python3"
  },
  "language_info": {
   "codemirror_mode": {
    "name": "ipython",
    "version": 3
   },
   "file_extension": ".py",
   "mimetype": "text/x-python",
   "name": "python",
   "nbconvert_exporter": "python",
   "pygments_lexer": "ipython3",
   "version": "3.8.10"
  },
  "toc": {
   "base_numbering": 1,
   "nav_menu": {},
   "number_sections": true,
   "sideBar": true,
   "skip_h1_title": false,
   "title_cell": "Table of Contents",
   "title_sidebar": "Contents",
   "toc_cell": false,
   "toc_position": {},
   "toc_section_display": true,
   "toc_window_display": false
  }
 },
 "nbformat": 4,
 "nbformat_minor": 5
}
