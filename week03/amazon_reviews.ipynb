{
 "cells": [
  {
   "cell_type": "code",
   "execution_count": null,
   "id": "323e820f",
   "metadata": {},
   "outputs": [],
   "source": [
    "import pandas as pd"
   ]
  },
  {
   "cell_type": "code",
   "execution_count": null,
   "id": "d29ad4b7",
   "metadata": {},
   "outputs": [],
   "source": [
    "df = pd.read_csv(\"https://github.com/christianw/applied-ux/raw/main/week03/amazon_reviews.csv.xz\")"
   ]
  },
  {
   "cell_type": "code",
   "execution_count": null,
   "id": "9ee1c9f7",
   "metadata": {},
   "outputs": [],
   "source": [
    "df = pd.read_csv(\"https://github.com/christianw/applied-ux/raw/main/week03/amazon_reviews.csv.xz\", low_memory=False)"
   ]
  },
  {
   "cell_type": "code",
   "execution_count": null,
   "id": "7c18b396",
   "metadata": {},
   "outputs": [],
   "source": [
    "len(df)"
   ]
  },
  {
   "cell_type": "code",
   "execution_count": null,
   "id": "27ba55ac",
   "metadata": {},
   "outputs": [],
   "source": [
    "df.columns"
   ]
  },
  {
   "cell_type": "code",
   "execution_count": null,
   "id": "e8a8a32b",
   "metadata": {},
   "outputs": [],
   "source": [
    "df.dtypes"
   ]
  },
  {
   "cell_type": "code",
   "execution_count": null,
   "id": "0f0ba479",
   "metadata": {},
   "outputs": [],
   "source": [
    "df.value_counts(\"name\")"
   ]
  },
  {
   "cell_type": "code",
   "execution_count": null,
   "id": "3505475b",
   "metadata": {},
   "outputs": [],
   "source": [
    "df.value_counts(\"name\")[0:10].plot.barh()"
   ]
  },
  {
   "cell_type": "code",
   "execution_count": null,
   "id": "dd8d4d91",
   "metadata": {},
   "outputs": [],
   "source": [
    "df[\"reviews.username\"].nunique()"
   ]
  },
  {
   "cell_type": "code",
   "execution_count": null,
   "id": "6298e6ec",
   "metadata": {},
   "outputs": [],
   "source": [
    "ft = df[df[\"name\"] == \"Fire Tablet, 7 Display, Wi-Fi, 8 GB - Includes Special Offers, Magenta\"].copy()"
   ]
  },
  {
   "cell_type": "code",
   "execution_count": null,
   "id": "28756db2",
   "metadata": {},
   "outputs": [],
   "source": [
    "len(ft)"
   ]
  },
  {
   "cell_type": "code",
   "execution_count": null,
   "id": "3b54dfc6",
   "metadata": {},
   "outputs": [],
   "source": [
    "ft[\"reviews.date\"] = pd.to_datetime(ft[\"reviews.date\"])"
   ]
  },
  {
   "cell_type": "code",
   "execution_count": null,
   "id": "a2931707",
   "metadata": {},
   "outputs": [],
   "source": [
    "ft.set_index(\"reviews.date\").resample(\"M\").count()[\"id\"].plot()"
   ]
  },
  {
   "cell_type": "code",
   "execution_count": null,
   "id": "77a32924",
   "metadata": {},
   "outputs": [],
   "source": []
  },
  {
   "cell_type": "code",
   "execution_count": null,
   "id": "bd43c431",
   "metadata": {},
   "outputs": [],
   "source": []
  },
  {
   "cell_type": "code",
   "execution_count": null,
   "id": "f962bc22",
   "metadata": {},
   "outputs": [],
   "source": [
    "ft[\"reviews.text\"]"
   ]
  },
  {
   "cell_type": "code",
   "execution_count": null,
   "id": "ea2ef079",
   "metadata": {},
   "outputs": [],
   "source": [
    "from collections import Counter\n",
    "words = Counter([w for t in ft[\"reviews.text\"] for w in t.split(\" \")])"
   ]
  },
  {
   "cell_type": "code",
   "execution_count": null,
   "id": "ff540306",
   "metadata": {},
   "outputs": [],
   "source": [
    "words.most_common()"
   ]
  },
  {
   "cell_type": "code",
   "execution_count": null,
   "id": "79785116",
   "metadata": {},
   "outputs": [],
   "source": [
    "%%time\n",
    "words = Counter([w for t in ft[\"reviews.text\"] for w in t.lower().split(\" \")])\n",
    "words.most_common(20)"
   ]
  },
  {
   "cell_type": "code",
   "execution_count": null,
   "id": "d1eb7f33",
   "metadata": {},
   "outputs": [],
   "source": [
    "stopwords = set(pd.read_csv(\"https://github.com/christianw/applied-ux/raw/main/week03/stopwords.txt\", header=None)[0].values)"
   ]
  },
  {
   "cell_type": "code",
   "execution_count": null,
   "id": "1e8ba578",
   "metadata": {},
   "outputs": [],
   "source": [
    "%%time\n",
    "words = Counter([w for t in ft[\"reviews.text\"] \n",
    "                       for w in t.lower().split(\" \")\n",
    "                           if w not in stopwords])\n",
    "words.most_common(20)"
   ]
  },
  {
   "cell_type": "markdown",
   "id": "4428d840",
   "metadata": {},
   "source": [
    "Problems:\n",
    "* tokenization\n",
    "* different form of words (bought vs. buy etc.)\n",
    "* words might be stopwords depending on position in sentence"
   ]
  },
  {
   "cell_type": "code",
   "execution_count": null,
   "id": "ba6ae28e",
   "metadata": {},
   "outputs": [],
   "source": [
    "pip install spacy"
   ]
  },
  {
   "cell_type": "code",
   "execution_count": null,
   "id": "3fb7fa8c",
   "metadata": {},
   "outputs": [],
   "source": [
    "!python -m spacy download en_core_web_sm"
   ]
  },
  {
   "cell_type": "code",
   "execution_count": null,
   "id": "54aec4dd",
   "metadata": {},
   "outputs": [],
   "source": [
    "import spacy"
   ]
  },
  {
   "cell_type": "code",
   "execution_count": null,
   "id": "f0bd38ac",
   "metadata": {},
   "outputs": [],
   "source": [
    "nlp = spacy.load(\"en_core_web_sm\")"
   ]
  },
  {
   "cell_type": "code",
   "execution_count": null,
   "id": "004086d5",
   "metadata": {},
   "outputs": [],
   "source": [
    "[w for w in nlp(\"Hello, friend. In 2023 I live in Washington D.C. and like it there.\")]"
   ]
  },
  {
   "cell_type": "code",
   "execution_count": null,
   "id": "32d50481",
   "metadata": {},
   "outputs": [],
   "source": [
    "[w for w in nlp(\"Hello, friend. In 2023 I live in Washington D.C. and like it there.\")\n",
    "       if w.is_alpha]"
   ]
  },
  {
   "cell_type": "code",
   "execution_count": null,
   "id": "1bd9585e",
   "metadata": {},
   "outputs": [],
   "source": [
    "%%time\n",
    "words = Counter([str(w) for t in ft[\"reviews.text\"] \n",
    "                       for w in nlp(t.lower())\n",
    "                           if w.is_alpha and not w.is_stop])\n",
    "words.most_common(20)"
   ]
  },
  {
   "cell_type": "code",
   "execution_count": null,
   "id": "5a546763",
   "metadata": {},
   "outputs": [],
   "source": [
    "%%time\n",
    "words = Counter([str(w.lemma_) for t in ft[\"reviews.text\"] \n",
    "                       for w in nlp(t.lower())\n",
    "                           if w.is_alpha and not w.is_stop])\n",
    "words.most_common(20)"
   ]
  },
  {
   "cell_type": "code",
   "execution_count": null,
   "id": "0c96ee5d",
   "metadata": {},
   "outputs": [],
   "source": [
    "from wordcloud import WordCloud\n",
    "import matplotlib.pyplot as plt"
   ]
  },
  {
   "cell_type": "code",
   "execution_count": null,
   "id": "9d2102ed",
   "metadata": {},
   "outputs": [],
   "source": [
    "wordcloud = WordCloud()\n",
    "wordcloud.generate_from_frequencies(words)\n",
    "plt.figure()\n",
    "plt.imshow(wordcloud, interpolation=\"bilinear\")\n",
    "plt.axis(\"off\")\n",
    "plt.show()"
   ]
  },
  {
   "cell_type": "markdown",
   "id": "dcca2d91",
   "metadata": {},
   "source": [
    "Much more is possible"
   ]
  },
  {
   "cell_type": "code",
   "execution_count": null,
   "id": "eed374a8",
   "metadata": {},
   "outputs": [],
   "source": [
    "doc = nlp(\"Hello, friend. In 2023 I live in Washington D.C. and like it there.\")\n",
    "spacy.displacy.render(doc, style=\"dep\")"
   ]
  },
  {
   "cell_type": "code",
   "execution_count": null,
   "id": "87b2f044",
   "metadata": {},
   "outputs": [],
   "source": [
    "spacy.displacy.render(doc, style=\"ent\")"
   ]
  },
  {
   "cell_type": "markdown",
   "id": "37a7d03d",
   "metadata": {},
   "source": [
    "Similarity"
   ]
  },
  {
   "cell_type": "code",
   "execution_count": null,
   "id": "f2ef91c7",
   "metadata": {},
   "outputs": [],
   "source": [
    "tokens = nlp(\"cat dog Berlin Nuremberg\")"
   ]
  },
  {
   "cell_type": "code",
   "execution_count": null,
   "id": "26dfa2f3",
   "metadata": {},
   "outputs": [],
   "source": [
    "tokens[0].similarity(tokens[1])"
   ]
  },
  {
   "cell_type": "code",
   "execution_count": null,
   "id": "afe08c31",
   "metadata": {},
   "outputs": [],
   "source": [
    "tokens[0].similarity(tokens[2])"
   ]
  },
  {
   "cell_type": "code",
   "execution_count": null,
   "id": "90d4c207",
   "metadata": {},
   "outputs": [],
   "source": [
    "tokens[2].similarity(tokens[3])"
   ]
  },
  {
   "cell_type": "code",
   "execution_count": null,
   "id": "fc4ba685",
   "metadata": {},
   "outputs": [],
   "source": []
  }
 ],
 "metadata": {
  "kernelspec": {
   "display_name": "Python 3 (ipykernel)",
   "language": "python",
   "name": "python3"
  },
  "language_info": {
   "codemirror_mode": {
    "name": "ipython",
    "version": 3
   },
   "file_extension": ".py",
   "mimetype": "text/x-python",
   "name": "python",
   "nbconvert_exporter": "python",
   "pygments_lexer": "ipython3",
   "version": "3.8.10"
  },
  "toc": {
   "base_numbering": 1,
   "nav_menu": {},
   "number_sections": true,
   "sideBar": true,
   "skip_h1_title": false,
   "title_cell": "Table of Contents",
   "title_sidebar": "Contents",
   "toc_cell": false,
   "toc_position": {},
   "toc_section_display": true,
   "toc_window_display": false
  }
 },
 "nbformat": 4,
 "nbformat_minor": 5
}
