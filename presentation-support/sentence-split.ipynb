{
 "cells": [
  {
   "cell_type": "code",
   "execution_count": null,
   "id": "323e820f",
   "metadata": {},
   "outputs": [],
   "source": [
    "import pandas as pd"
   ]
  },
  {
   "cell_type": "code",
   "execution_count": null,
   "id": "9ee1c9f7",
   "metadata": {},
   "outputs": [],
   "source": [
    "df = pd.read_csv(\"https://github.com/christianw/applied-ux/raw/main/data/amazon-reviews-jbl.csv.xz\", low_memory=False)"
   ]
  },
  {
   "cell_type": "code",
   "execution_count": null,
   "id": "ba6ae28e",
   "metadata": {},
   "outputs": [],
   "source": [
    "pip install spacy"
   ]
  },
  {
   "cell_type": "code",
   "execution_count": null,
   "id": "3fb7fa8c",
   "metadata": {},
   "outputs": [],
   "source": [
    "# choose correct language\n",
    "!python -m spacy download en_core_web_sm"
   ]
  },
  {
   "cell_type": "code",
   "execution_count": null,
   "id": "54aec4dd",
   "metadata": {},
   "outputs": [],
   "source": [
    "import spacy"
   ]
  },
  {
   "cell_type": "code",
   "execution_count": null,
   "id": "531b36a9",
   "metadata": {},
   "outputs": [],
   "source": [
    "df.columns"
   ]
  },
  {
   "cell_type": "code",
   "execution_count": null,
   "id": "f0bd38ac",
   "metadata": {},
   "outputs": [],
   "source": [
    "# choose correct language\n",
    "nlp = spacy.load(\"en_core_web_sm\")"
   ]
  },
  {
   "cell_type": "code",
   "execution_count": null,
   "id": "5f4abf7c",
   "metadata": {},
   "outputs": [],
   "source": [
    "res = []\n",
    "for i, r in df.iterrows():\n",
    "    doc = nlp(str(r[\"text\"]))\n",
    "    for sentence in doc.sents:\n",
    "        res.append([r[\"id\"], r[\"date\"], r[\"rating\"], \" \".join([w.lemma_ for w in sentence])])"
   ]
  },
  {
   "cell_type": "code",
   "execution_count": null,
   "id": "61d6e174",
   "metadata": {},
   "outputs": [],
   "source": [
    "sent_df = pd.DataFrame(res, columns=[\"id\", \"date\", \"rating\", \"sentence\"])\n",
    "sent_df"
   ]
  },
  {
   "cell_type": "code",
   "execution_count": null,
   "id": "e3a6a3dd",
   "metadata": {},
   "outputs": [],
   "source": []
  }
 ],
 "metadata": {
  "kernelspec": {
   "display_name": "Python 3 (ipykernel)",
   "language": "python",
   "name": "python3"
  },
  "language_info": {
   "codemirror_mode": {
    "name": "ipython",
    "version": 3
   },
   "file_extension": ".py",
   "mimetype": "text/x-python",
   "name": "python",
   "nbconvert_exporter": "python",
   "pygments_lexer": "ipython3",
   "version": "3.8.10"
  },
  "toc": {
   "base_numbering": 1,
   "nav_menu": {},
   "number_sections": true,
   "sideBar": true,
   "skip_h1_title": false,
   "title_cell": "Table of Contents",
   "title_sidebar": "Contents",
   "toc_cell": false,
   "toc_position": {},
   "toc_section_display": true,
   "toc_window_display": false
  }
 },
 "nbformat": 4,
 "nbformat_minor": 5
}
