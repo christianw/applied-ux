{
 "cells": [
  {
   "cell_type": "code",
   "execution_count": null,
   "id": "323e820f",
   "metadata": {},
   "outputs": [],
   "source": [
    "import pandas as pd"
   ]
  },
  {
   "cell_type": "markdown",
   "id": "1de340b7",
   "metadata": {},
   "source": [
    "## Data source: https://budgetlightforum.com/t/fw3a-troubleshooting-faq/56568"
   ]
  },
  {
   "cell_type": "code",
   "execution_count": null,
   "id": "d29ad4b7",
   "metadata": {},
   "outputs": [],
   "source": [
    "df = pd.read_json(\"https://github.com/christianw/applied-ux/raw/main/week03/blf.json.xz\", orient=\"records\")"
   ]
  },
  {
   "cell_type": "code",
   "execution_count": null,
   "id": "7c18b396",
   "metadata": {},
   "outputs": [],
   "source": [
    "len(df)"
   ]
  },
  {
   "cell_type": "code",
   "execution_count": null,
   "id": "27ba55ac",
   "metadata": {},
   "outputs": [],
   "source": [
    "df.columns"
   ]
  },
  {
   "cell_type": "code",
   "execution_count": null,
   "id": "e8a8a32b",
   "metadata": {},
   "outputs": [],
   "source": [
    "df.dtypes"
   ]
  },
  {
   "cell_type": "code",
   "execution_count": null,
   "id": "0f0ba479",
   "metadata": {},
   "outputs": [],
   "source": [
    "df.value_counts(\"username\")"
   ]
  },
  {
   "cell_type": "code",
   "execution_count": null,
   "id": "f962bc22",
   "metadata": {},
   "outputs": [],
   "source": [
    "df[\"text\"]"
   ]
  },
  {
   "cell_type": "code",
   "execution_count": null,
   "id": "ea2ef079",
   "metadata": {},
   "outputs": [],
   "source": [
    "from collections import Counter\n",
    "words = Counter([w for t in df[\"text\"] for w in t.split(\" \")])"
   ]
  },
  {
   "cell_type": "code",
   "execution_count": null,
   "id": "ff540306",
   "metadata": {},
   "outputs": [],
   "source": [
    "words.most_common()"
   ]
  },
  {
   "cell_type": "code",
   "execution_count": null,
   "id": "79785116",
   "metadata": {},
   "outputs": [],
   "source": [
    "words = Counter([w.lower() for t in df[\"text\"] for w in t.split(\" \")])\n",
    "words.most_common(20)"
   ]
  },
  {
   "cell_type": "markdown",
   "id": "88983c39",
   "metadata": {},
   "source": [
    "# Please complete with the methods you saw in the lecture!"
   ]
  },
  {
   "cell_type": "code",
   "execution_count": null,
   "id": "77c1d03f",
   "metadata": {},
   "outputs": [],
   "source": []
  }
 ],
 "metadata": {
  "kernelspec": {
   "display_name": "Python 3 (ipykernel)",
   "language": "python",
   "name": "python3"
  },
  "language_info": {
   "codemirror_mode": {
    "name": "ipython",
    "version": 3
   },
   "file_extension": ".py",
   "mimetype": "text/x-python",
   "name": "python",
   "nbconvert_exporter": "python",
   "pygments_lexer": "ipython3",
   "version": "3.8.10"
  },
  "toc": {
   "base_numbering": 1,
   "nav_menu": {},
   "number_sections": false,
   "sideBar": true,
   "skip_h1_title": false,
   "title_cell": "Table of Contents",
   "title_sidebar": "Contents",
   "toc_cell": false,
   "toc_position": {},
   "toc_section_display": true,
   "toc_window_display": true
  }
 },
 "nbformat": 4,
 "nbformat_minor": 5
}
