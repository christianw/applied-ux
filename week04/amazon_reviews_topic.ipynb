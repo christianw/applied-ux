{
 "cells": [
  {
   "cell_type": "code",
   "execution_count": null,
   "id": "323e820f",
   "metadata": {},
   "outputs": [],
   "source": [
    "import pandas as pd"
   ]
  },
  {
   "cell_type": "code",
   "execution_count": null,
   "id": "9ee1c9f7",
   "metadata": {},
   "outputs": [],
   "source": [
    "df = pd.read_csv(\"https://github.com/christianw/applied-ux/raw/main/week03/amazon_reviews.csv.xz\", low_memory=False)"
   ]
  },
  {
   "cell_type": "code",
   "execution_count": null,
   "id": "6a00d032",
   "metadata": {},
   "outputs": [],
   "source": [
    "pos_mask = df[\"name\"] == \"Fire Tablet, 7 Display, Wi-Fi, 8 GB - Includes Special Offers, Magenta\""
   ]
  },
  {
   "cell_type": "code",
   "execution_count": null,
   "id": "6298e6ec",
   "metadata": {},
   "outputs": [],
   "source": [
    "pos = df[pos_mask].copy()\n",
    "pos[\"ft7\"] = 1"
   ]
  },
  {
   "cell_type": "code",
   "execution_count": null,
   "id": "44d5693f",
   "metadata": {},
   "outputs": [],
   "source": [
    "from spacy.lang.en.stop_words import STOP_WORDS as stop_words\n",
    "from sklearn.feature_extraction.text import TfidfVectorizer\n",
    "tfidf = TfidfVectorizer(ngram_range=(1,2), stop_words=list(stop_words), \n",
    "                        max_df=0.7, min_df=3)\n",
    "tfidf_vectors = tfidf.fit_transform(pos[\"reviews.text\"].map(str))\n",
    "\n",
    "X = tfidf_vectors"
   ]
  },
  {
   "cell_type": "code",
   "execution_count": null,
   "id": "a7ee8741",
   "metadata": {},
   "outputs": [],
   "source": [
    "import matplotlib.pyplot as plt\n",
    "from wordcloud import WordCloud\n",
    "import numpy as np\n",
    "\n",
    "def wordcloud_topic_model_summary(model, feature_names, no_top_words):\n",
    "    for topic_idx, topic in enumerate(model.components_):\n",
    "        freq = {}\n",
    "        for i in topic.argsort()[:-no_top_words - 1:-1]:\n",
    "            val = int(100000.0 * topic[i])\n",
    "            freq[feature_names[i].replace(\" \", \"_\")] = val+1\n",
    "        wc = WordCloud(background_color=\"white\", max_words=100, width=960, height=540)\n",
    "        wc.generate_from_frequencies(freq)\n",
    "        plt.figure(figsize=(12,12))\n",
    "        plt.imshow(wc, interpolation='bilinear')\n",
    "        plt.axis(\"off\");\n"
   ]
  },
  {
   "cell_type": "code",
   "execution_count": null,
   "id": "eea241d4",
   "metadata": {},
   "outputs": [],
   "source": [
    "from sklearn.decomposition import NMF;\n",
    "\n",
    "nmf = NMF(n_components = 10)\n",
    "nmf.fit(tfidf_vectors)"
   ]
  },
  {
   "cell_type": "code",
   "execution_count": null,
   "id": "03b43986",
   "metadata": {
    "scrolled": false
   },
   "outputs": [],
   "source": [
    "wordcloud_topic_model_summary(nmf, tfidf.get_feature_names_out(), 40)"
   ]
  },
  {
   "cell_type": "code",
   "execution_count": null,
   "id": "ee27b80c",
   "metadata": {},
   "outputs": [],
   "source": []
  }
 ],
 "metadata": {
  "kernelspec": {
   "display_name": "Python 3 (ipykernel)",
   "language": "python",
   "name": "python3"
  },
  "language_info": {
   "codemirror_mode": {
    "name": "ipython",
    "version": 3
   },
   "file_extension": ".py",
   "mimetype": "text/x-python",
   "name": "python",
   "nbconvert_exporter": "python",
   "pygments_lexer": "ipython3",
   "version": "3.8.10"
  },
  "toc": {
   "base_numbering": 1,
   "nav_menu": {},
   "number_sections": true,
   "sideBar": true,
   "skip_h1_title": false,
   "title_cell": "Table of Contents",
   "title_sidebar": "Contents",
   "toc_cell": false,
   "toc_position": {},
   "toc_section_display": true,
   "toc_window_display": false
  }
 },
 "nbformat": 4,
 "nbformat_minor": 5
}
