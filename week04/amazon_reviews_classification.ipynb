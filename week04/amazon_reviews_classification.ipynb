{
 "cells": [
  {
   "cell_type": "code",
   "execution_count": null,
   "id": "323e820f",
   "metadata": {},
   "outputs": [],
   "source": [
    "import pandas as pd"
   ]
  },
  {
   "cell_type": "code",
   "execution_count": null,
   "id": "9ee1c9f7",
   "metadata": {},
   "outputs": [],
   "source": [
    "df = pd.read_csv(\"https://github.com/christianw/applied-ux/raw/main/week03/amazon_reviews.csv.xz\", low_memory=False)"
   ]
  },
  {
   "cell_type": "code",
   "execution_count": null,
   "id": "47490b51",
   "metadata": {},
   "outputs": [],
   "source": [
    "pos_mask = df[\"name\"] == \"Fire Tablet, 7 Display, Wi-Fi, 8 GB - Includes Special Offers, Magenta\""
   ]
  },
  {
   "cell_type": "code",
   "execution_count": null,
   "id": "6298e6ec",
   "metadata": {},
   "outputs": [],
   "source": [
    "pos = df[pos_mask].copy()\n",
    "pos[\"ft7\"] = 1"
   ]
  },
  {
   "cell_type": "code",
   "execution_count": null,
   "id": "3eec5b7c",
   "metadata": {},
   "outputs": [],
   "source": [
    "len(pos)"
   ]
  },
  {
   "cell_type": "code",
   "execution_count": null,
   "id": "3523fb69",
   "metadata": {},
   "outputs": [],
   "source": [
    "neg = df[~pos_mask].copy()\n",
    "neg[\"ft7\"] = 0"
   ]
  },
  {
   "cell_type": "code",
   "execution_count": null,
   "id": "28756db2",
   "metadata": {},
   "outputs": [],
   "source": [
    "len(neg)"
   ]
  },
  {
   "cell_type": "code",
   "execution_count": null,
   "id": "2147ed04",
   "metadata": {},
   "outputs": [],
   "source": [
    "labeled = pd.concat([pos, neg.sample(len(pos), random_state=42)])"
   ]
  },
  {
   "cell_type": "code",
   "execution_count": null,
   "id": "4f2b7100",
   "metadata": {},
   "outputs": [],
   "source": [
    "from spacy.lang.en.stop_words import STOP_WORDS as stop_words\n",
    "from sklearn.feature_extraction.text import TfidfVectorizer\n",
    "tfidf = TfidfVectorizer(ngram_range=(1,2), stop_words=list(stop_words), \n",
    "                        max_df=0.7, min_df=3)\n",
    "tfidf_vectors = tfidf.fit_transform(labeled[\"reviews.text\"].map(str))\n",
    "\n",
    "X = tfidf_vectors\n",
    "Y = labeled[\"ft7\"]\n",
    "\n",
    "from sklearn.model_selection import train_test_split\n",
    "\n",
    "X_train, X_test, Y_train, Y_test = \\\n",
    "        train_test_split(X, Y, test_size=0.25, random_state=42)"
   ]
  },
  {
   "cell_type": "code",
   "execution_count": null,
   "id": "f0217c01",
   "metadata": {},
   "outputs": [],
   "source": [
    "from sklearn.linear_model import SGDClassifier\n",
    "from sklearn.svm import SVC\n",
    "\n",
    "clf = SGDClassifier(loss='hinge', max_iter=1000, tol=1e-3, random_state=42)\n",
    "#clf = SVC(kernel='linear', random_state=42)\n",
    "#clf = SVC(random_state=42)\n",
    "clf.fit(X_train, Y_train)"
   ]
  },
  {
   "cell_type": "code",
   "execution_count": null,
   "id": "2fc6133d",
   "metadata": {},
   "outputs": [],
   "source": [
    "Y_predicted = clf.predict(X_test)"
   ]
  },
  {
   "cell_type": "code",
   "execution_count": null,
   "id": "4e6d8e49",
   "metadata": {},
   "outputs": [],
   "source": [
    "from sklearn import metrics\n",
    "print(metrics.classification_report(Y_test, Y_predicted))"
   ]
  },
  {
   "cell_type": "code",
   "execution_count": null,
   "id": "bce98a61",
   "metadata": {},
   "outputs": [],
   "source": []
  }
 ],
 "metadata": {
  "kernelspec": {
   "display_name": "Python 3 (ipykernel)",
   "language": "python",
   "name": "python3"
  },
  "language_info": {
   "codemirror_mode": {
    "name": "ipython",
    "version": 3
   },
   "file_extension": ".py",
   "mimetype": "text/x-python",
   "name": "python",
   "nbconvert_exporter": "python",
   "pygments_lexer": "ipython3",
   "version": "3.8.10"
  },
  "toc": {
   "base_numbering": 1,
   "nav_menu": {},
   "number_sections": true,
   "sideBar": true,
   "skip_h1_title": false,
   "title_cell": "Table of Contents",
   "title_sidebar": "Contents",
   "toc_cell": false,
   "toc_position": {},
   "toc_section_display": true,
   "toc_window_display": false
  }
 },
 "nbformat": 4,
 "nbformat_minor": 5
}
