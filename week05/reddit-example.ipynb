{
 "cells": [
  {
   "cell_type": "code",
   "execution_count": 1,
   "id": "e3e16310",
   "metadata": {},
   "outputs": [],
   "source": [
    "import pandas as pd"
   ]
  },
  {
   "cell_type": "code",
   "execution_count": 3,
   "id": "7e68c88e",
   "metadata": {},
   "outputs": [],
   "source": [
    "df = pd.read_csv(\"https://github.com/christianw/applied-ux/raw/main/data/reddit-airpods.csv.xz\", low_memory=False)"
   ]
  },
  {
   "cell_type": "code",
   "execution_count": 4,
   "id": "670e8e40",
   "metadata": {},
   "outputs": [
    {
     "data": {
      "text/plain": [
       "487340"
      ]
     },
     "execution_count": 4,
     "metadata": {},
     "output_type": "execute_result"
    }
   ],
   "source": [
    "len(df)"
   ]
  },
  {
   "cell_type": "code",
   "execution_count": 5,
   "id": "47aabed0",
   "metadata": {},
   "outputs": [
    {
     "data": {
      "text/plain": [
       "id               object\n",
       "kind             object\n",
       "title            object\n",
       "link_id          object\n",
       "parent_id        object\n",
       "name             object\n",
       "ups               int64\n",
       "downs             int64\n",
       "score             int64\n",
       "author           object\n",
       "num_comments    float64\n",
       "created_utc      object\n",
       "permalink        object\n",
       "url              object\n",
       "selftext         object\n",
       "body             object\n",
       "flair            object\n",
       "level           float64\n",
       "top_parent      float64\n",
       "dtype: object"
      ]
     },
     "execution_count": 5,
     "metadata": {},
     "output_type": "execute_result"
    }
   ],
   "source": [
    "df.dtypes"
   ]
  },
  {
   "cell_type": "code",
   "execution_count": 7,
   "id": "79b52c98",
   "metadata": {},
   "outputs": [
    {
     "data": {
      "text/plain": [
       "t1    413389\n",
       "t3     73951\n",
       "Name: kind, dtype: int64"
      ]
     },
     "execution_count": 7,
     "metadata": {},
     "output_type": "execute_result"
    }
   ],
   "source": [
    "df[\"kind\"].value_counts()"
   ]
  },
  {
   "cell_type": "code",
   "execution_count": 9,
   "id": "83b6203d",
   "metadata": {},
   "outputs": [
    {
     "data": {
      "text/html": [
       "<div><div id=12cdcb4b-54e7-4b34-9427-75987d2c1d8a style=\"display:none; background-color:#9D6CFF; color:white; width:200px; height:30px; padding-left:5px; border-radius:4px; flex-direction:row; justify-content:space-around; align-items:center;\" onmouseover=\"this.style.backgroundColor='#BA9BF8'\" onmouseout=\"this.style.backgroundColor='#9D6CFF'\" onclick=\"window.commands?.execute('create-mitosheet-from-dataframe-output');\">See Full Dataframe in Mito</div> <script> if (window.commands?.hasCommand('create-mitosheet-from-dataframe-output')) document.getElementById('12cdcb4b-54e7-4b34-9427-75987d2c1d8a').style.display = 'flex' </script> <table border=\"1\" class=\"dataframe\">\n",
       "  <thead>\n",
       "    <tr style=\"text-align: right;\">\n",
       "      <th></th>\n",
       "      <th>id</th>\n",
       "      <th>kind</th>\n",
       "      <th>title</th>\n",
       "      <th>link_id</th>\n",
       "      <th>parent_id</th>\n",
       "      <th>name</th>\n",
       "      <th>ups</th>\n",
       "      <th>downs</th>\n",
       "      <th>score</th>\n",
       "      <th>author</th>\n",
       "      <th>num_comments</th>\n",
       "      <th>created_utc</th>\n",
       "      <th>permalink</th>\n",
       "      <th>url</th>\n",
       "      <th>selftext</th>\n",
       "      <th>body</th>\n",
       "      <th>flair</th>\n",
       "      <th>level</th>\n",
       "      <th>top_parent</th>\n",
       "    </tr>\n",
       "  </thead>\n",
       "  <tbody>\n",
       "    <tr>\n",
       "      <th>0</th>\n",
       "      <td>t3_b1qm9t</td>\n",
       "      <td>t3</td>\n",
       "      <td>airpod meetup</td>\n",
       "      <td>NaN</td>\n",
       "      <td>NaN</td>\n",
       "      <td>t3_b1qm9t</td>\n",
       "      <td>0</td>\n",
       "      <td>0</td>\n",
       "      <td>0</td>\n",
       "      <td>harrisisadonkey</td>\n",
       "      <td>0.0</td>\n",
       "      <td>2019-03-16 10:23:37.000000</td>\n",
       "      <td>/r/airpods/comments/b1qm9t/airpod_meetup/</td>\n",
       "      <td>https://www.reddit.com/r/airpods/comments/b1qm9t/airpod_meetup/</td>\n",
       "      <td>anyone thinking of going with wired headphones and acting normal. Or better yet walk in with either normal apple headphones with the wires cut off or fake ass airpods</td>\n",
       "      <td>NaN</td>\n",
       "      <td>NaN</td>\n",
       "      <td>NaN</td>\n",
       "      <td>NaN</td>\n",
       "    </tr>\n",
       "    <tr>\n",
       "      <th>1</th>\n",
       "      <td>t3_5jwrl6</td>\n",
       "      <td>t3</td>\n",
       "      <td>How to pair/ Unpair Airpods to iPhone, iPad, Apple Watch and Mac</td>\n",
       "      <td>NaN</td>\n",
       "      <td>NaN</td>\n",
       "      <td>t3_5jwrl6</td>\n",
       "      <td>1</td>\n",
       "      <td>0</td>\n",
       "      <td>1</td>\n",
       "      <td>iPhonicworld</td>\n",
       "      <td>0.0</td>\n",
       "      <td>2016-12-23 12:59:00.000000</td>\n",
       "      <td>/r/airpods/comments/5jwrl6/how_to_pair_unpair_airpods_to_iphone_ipad_apple/</td>\n",
       "      <td>https://www.howtoisolve.com/pair-unpair-airpods-iphone-ipad-apple-watch-mac/#AirpodstoApple</td>\n",
       "      <td>NaN</td>\n",
       "      <td>NaN</td>\n",
       "      <td>NaN</td>\n",
       "      <td>NaN</td>\n",
       "      <td>NaN</td>\n",
       "    </tr>\n",
       "    <tr>\n",
       "      <th>2</th>\n",
       "      <td>t3_5j4v7c</td>\n",
       "      <td>t3</td>\n",
       "      <td>AirPods First Impression with Videos</td>\n",
       "      <td>NaN</td>\n",
       "      <td>NaN</td>\n",
       "      <td>t3_5j4v7c</td>\n",
       "      <td>1</td>\n",
       "      <td>0</td>\n",
       "      <td>1</td>\n",
       "      <td>[deleted]</td>\n",
       "      <td>0.0</td>\n",
       "      <td>2016-12-19 07:07:10.000000</td>\n",
       "      <td>/r/airpods/comments/5j4v7c/airpods_first_impression_with_videos/</td>\n",
       "      <td>NaN</td>\n",
       "      <td>[deleted]</td>\n",
       "      <td>NaN</td>\n",
       "      <td>NaN</td>\n",
       "      <td>NaN</td>\n",
       "      <td>NaN</td>\n",
       "    </tr>\n",
       "    <tr>\n",
       "      <th>3</th>\n",
       "      <td>t3_5j5ne4</td>\n",
       "      <td>t3</td>\n",
       "      <td>Got my New Apple Airpod..</td>\n",
       "      <td>NaN</td>\n",
       "      <td>NaN</td>\n",
       "      <td>t3_5j5ne4</td>\n",
       "      <td>14</td>\n",
       "      <td>0</td>\n",
       "      <td>14</td>\n",
       "      <td>marvinrohan</td>\n",
       "      <td>0.0</td>\n",
       "      <td>2016-12-19 11:04:25.000000</td>\n",
       "      <td>/r/airpods/comments/5j5ne4/got_my_new_apple_airpod/</td>\n",
       "      <td>https://i.reddituploads.com/2421deb9fcdc4d0f88edb7db02b25a9b?fit=max&amp;amp;h=1536&amp;amp;w=1536&amp;amp;s=ab55e1201dcf263bf8821eaaa1cf10e0</td>\n",
       "      <td>NaN</td>\n",
       "      <td>NaN</td>\n",
       "      <td>NaN</td>\n",
       "      <td>NaN</td>\n",
       "      <td>NaN</td>\n",
       "    </tr>\n",
       "    <tr>\n",
       "      <th>4</th>\n",
       "      <td>t3_5jzk8r</td>\n",
       "      <td>t3</td>\n",
       "      <td>Airpods tested to be haircut compatible!</td>\n",
       "      <td>NaN</td>\n",
       "      <td>NaN</td>\n",
       "      <td>t3_5jzk8r</td>\n",
       "      <td>5</td>\n",
       "      <td>0</td>\n",
       "      <td>5</td>\n",
       "      <td>Imacatdoincatstuff</td>\n",
       "      <td>3.0</td>\n",
       "      <td>2016-12-23 22:40:10.000000</td>\n",
       "      <td>/r/airpods/comments/5jzk8r/airpods_tested_to_be_haircut_compatible/</td>\n",
       "      <td>https://www.reddit.com/r/airpods/comments/5jzk8r/airpods_tested_to_be_haircut_compatible/</td>\n",
       "      <td>Yup got a haircut today wearing the pods the whole time. No issues with hindering the barber, including trimming along the outside of the ear. Barber says they made me a more patient customer.</td>\n",
       "      <td>NaN</td>\n",
       "      <td>NaN</td>\n",
       "      <td>NaN</td>\n",
       "      <td>NaN</td>\n",
       "    </tr>\n",
       "    <tr>\n",
       "      <th>...</th>\n",
       "      <td>...</td>\n",
       "      <td>...</td>\n",
       "      <td>...</td>\n",
       "      <td>...</td>\n",
       "      <td>...</td>\n",
       "      <td>...</td>\n",
       "      <td>...</td>\n",
       "      <td>...</td>\n",
       "      <td>...</td>\n",
       "      <td>...</td>\n",
       "      <td>...</td>\n",
       "      <td>...</td>\n",
       "      <td>...</td>\n",
       "      <td>...</td>\n",
       "      <td>...</td>\n",
       "      <td>...</td>\n",
       "      <td>...</td>\n",
       "      <td>...</td>\n",
       "      <td>...</td>\n",
       "    </tr>\n",
       "    <tr>\n",
       "      <th>487250</th>\n",
       "      <td>t3_11wlbcw</td>\n",
       "      <td>t3</td>\n",
       "      <td>How long has this been a thing?? No more deafening tones on my AirPods Pro!</td>\n",
       "      <td>NaN</td>\n",
       "      <td>NaN</td>\n",
       "      <td>t3_11wlbcw</td>\n",
       "      <td>258</td>\n",
       "      <td>0</td>\n",
       "      <td>258</td>\n",
       "      <td>codex_41</td>\n",
       "      <td>32.0</td>\n",
       "      <td>2023-03-20 16:10:51.000000</td>\n",
       "      <td>/r/airpods/comments/11wlbcw/how_long_has_this_been_a_thing_no_more_deafening/</td>\n",
       "      <td>https://i.imgur.com/S2cx0Xj.jpg</td>\n",
       "      <td>NaN</td>\n",
       "      <td>NaN</td>\n",
       "      <td>NaN</td>\n",
       "      <td>NaN</td>\n",
       "      <td>NaN</td>\n",
       "    </tr>\n",
       "    <tr>\n",
       "      <th>487282</th>\n",
       "      <td>t3_11zbq25</td>\n",
       "      <td>t3</td>\n",
       "      <td>airpod gen 3 glitching</td>\n",
       "      <td>NaN</td>\n",
       "      <td>NaN</td>\n",
       "      <td>t3_11zbq25</td>\n",
       "      <td>2</td>\n",
       "      <td>0</td>\n",
       "      <td>2</td>\n",
       "      <td>Spillity</td>\n",
       "      <td>0.0</td>\n",
       "      <td>2023-03-23 07:47:53.000000</td>\n",
       "      <td>/r/airpods/comments/11zbq25/airpod_gen_3_glitching/</td>\n",
       "      <td>https://www.reddit.com/r/airpods/comments/11zbq25/airpod_gen_3_glitching/</td>\n",
       "      <td>Hi, I have the AirPods gen 3 and whenever I use them on my windows laptop with the wifi on the audio keeps cutting out, the issue stops when I turn the wifi off. Any fixes for this? Can I buy an external Bluetooth dongle to fix this?</td>\n",
       "      <td>NaN</td>\n",
       "      <td>NaN</td>\n",
       "      <td>NaN</td>\n",
       "      <td>NaN</td>\n",
       "    </tr>\n",
       "    <tr>\n",
       "      <th>487283</th>\n",
       "      <td>t3_11k6cyl</td>\n",
       "      <td>t3</td>\n",
       "      <td>Are these airpods really from japan?</td>\n",
       "      <td>NaN</td>\n",
       "      <td>NaN</td>\n",
       "      <td>t3_11k6cyl</td>\n",
       "      <td>104</td>\n",
       "      <td>0</td>\n",
       "      <td>104</td>\n",
       "      <td>DesignerBeing4713</td>\n",
       "      <td>42.0</td>\n",
       "      <td>2023-03-06 18:37:37.000000</td>\n",
       "      <td>/r/airpods/comments/11k6cyl/are_these_airpods_really_from_japan/</td>\n",
       "      <td>https://i.redd.it/nat4gprz47ma1.jpg</td>\n",
       "      <td>NaN</td>\n",
       "      <td>NaN</td>\n",
       "      <td>NaN</td>\n",
       "      <td>NaN</td>\n",
       "      <td>NaN</td>\n",
       "    </tr>\n",
       "    <tr>\n",
       "      <th>487330</th>\n",
       "      <td>t3_11g1gvs</td>\n",
       "      <td>t3</td>\n",
       "      <td>Big Booty Mature</td>\n",
       "      <td>NaN</td>\n",
       "      <td>NaN</td>\n",
       "      <td>t3_11g1gvs</td>\n",
       "      <td>1</td>\n",
       "      <td>0</td>\n",
       "      <td>1</td>\n",
       "      <td>Haunting-Alarm-8240</td>\n",
       "      <td>0.0</td>\n",
       "      <td>2023-03-02 13:23:59.000000</td>\n",
       "      <td>/r/airpods/comments/11g1gvs/big_booty_mature/</td>\n",
       "      <td>https://big-booty.mature.akterja.com/</td>\n",
       "      <td>NaN</td>\n",
       "      <td>NaN</td>\n",
       "      <td>NaN</td>\n",
       "      <td>NaN</td>\n",
       "      <td>NaN</td>\n",
       "    </tr>\n",
       "    <tr>\n",
       "      <th>487331</th>\n",
       "      <td>t3_11ho81f</td>\n",
       "      <td>t3</td>\n",
       "      <td>One AirPod is always quieter than the other</td>\n",
       "      <td>NaN</td>\n",
       "      <td>NaN</td>\n",
       "      <td>t3_11ho81f</td>\n",
       "      <td>1</td>\n",
       "      <td>0</td>\n",
       "      <td>1</td>\n",
       "      <td>im0wen</td>\n",
       "      <td>8.0</td>\n",
       "      <td>2023-03-04 04:30:33.000000</td>\n",
       "      <td>/r/airpods/comments/11ho81f/one_airpod_is_always_quieter_than_the_other/</td>\n",
       "      <td>https://www.reddit.com/r/airpods/comments/11ho81f/one_airpod_is_always_quieter_than_the_other/</td>\n",
       "      <td>Sometimes the right one is quiet, sometimes the left one is quiet so I don’t think it’s a wax issue.\\n\\nEven when I go to settings, the right one at 1.00 is much louder than the left when it’s at 1.00 and vice versa.\\n\\nAnybody know what the issue is?</td>\n",
       "      <td>NaN</td>\n",
       "      <td>NaN</td>\n",
       "      <td>NaN</td>\n",
       "      <td>NaN</td>\n",
       "    </tr>\n",
       "  </tbody>\n",
       "</table></div>"
      ],
      "text/plain": [
       "                id kind                                              title  \\\n",
       "0        t3_b1qm9t   t3                                      airpod meetup   \n",
       "1        t3_5jwrl6   t3  How to pair/ Unpair Airpods to iPhone, iPad, A...   \n",
       "2        t3_5j4v7c   t3               AirPods First Impression with Videos   \n",
       "3        t3_5j5ne4   t3                          Got my New Apple Airpod..   \n",
       "4        t3_5jzk8r   t3           Airpods tested to be haircut compatible!   \n",
       "...            ...  ...                                                ...   \n",
       "487250  t3_11wlbcw   t3  How long has this been a thing?? No more deafe...   \n",
       "487282  t3_11zbq25   t3                             airpod gen 3 glitching   \n",
       "487283  t3_11k6cyl   t3               Are these airpods really from japan?   \n",
       "487330  t3_11g1gvs   t3                                   Big Booty Mature   \n",
       "487331  t3_11ho81f   t3        One AirPod is always quieter than the other   \n",
       "\n",
       "       link_id parent_id        name  ups  downs  score               author  \\\n",
       "0          NaN       NaN   t3_b1qm9t    0      0      0      harrisisadonkey   \n",
       "1          NaN       NaN   t3_5jwrl6    1      0      1         iPhonicworld   \n",
       "2          NaN       NaN   t3_5j4v7c    1      0      1            [deleted]   \n",
       "3          NaN       NaN   t3_5j5ne4   14      0     14          marvinrohan   \n",
       "4          NaN       NaN   t3_5jzk8r    5      0      5   Imacatdoincatstuff   \n",
       "...        ...       ...         ...  ...    ...    ...                  ...   \n",
       "487250     NaN       NaN  t3_11wlbcw  258      0    258             codex_41   \n",
       "487282     NaN       NaN  t3_11zbq25    2      0      2             Spillity   \n",
       "487283     NaN       NaN  t3_11k6cyl  104      0    104    DesignerBeing4713   \n",
       "487330     NaN       NaN  t3_11g1gvs    1      0      1  Haunting-Alarm-8240   \n",
       "487331     NaN       NaN  t3_11ho81f    1      0      1               im0wen   \n",
       "\n",
       "        num_comments                 created_utc  \\\n",
       "0                0.0  2019-03-16 10:23:37.000000   \n",
       "1                0.0  2016-12-23 12:59:00.000000   \n",
       "2                0.0  2016-12-19 07:07:10.000000   \n",
       "3                0.0  2016-12-19 11:04:25.000000   \n",
       "4                3.0  2016-12-23 22:40:10.000000   \n",
       "...              ...                         ...   \n",
       "487250          32.0  2023-03-20 16:10:51.000000   \n",
       "487282           0.0  2023-03-23 07:47:53.000000   \n",
       "487283          42.0  2023-03-06 18:37:37.000000   \n",
       "487330           0.0  2023-03-02 13:23:59.000000   \n",
       "487331           8.0  2023-03-04 04:30:33.000000   \n",
       "\n",
       "                                                permalink  \\\n",
       "0               /r/airpods/comments/b1qm9t/airpod_meetup/   \n",
       "1       /r/airpods/comments/5jwrl6/how_to_pair_unpair_...   \n",
       "2       /r/airpods/comments/5j4v7c/airpods_first_impre...   \n",
       "3       /r/airpods/comments/5j5ne4/got_my_new_apple_ai...   \n",
       "4       /r/airpods/comments/5jzk8r/airpods_tested_to_b...   \n",
       "...                                                   ...   \n",
       "487250  /r/airpods/comments/11wlbcw/how_long_has_this_...   \n",
       "487282  /r/airpods/comments/11zbq25/airpod_gen_3_glitc...   \n",
       "487283  /r/airpods/comments/11k6cyl/are_these_airpods_...   \n",
       "487330      /r/airpods/comments/11g1gvs/big_booty_mature/   \n",
       "487331  /r/airpods/comments/11ho81f/one_airpod_is_alwa...   \n",
       "\n",
       "                                                      url  \\\n",
       "0       https://www.reddit.com/r/airpods/comments/b1qm...   \n",
       "1       https://www.howtoisolve.com/pair-unpair-airpod...   \n",
       "2                                                     NaN   \n",
       "3       https://i.reddituploads.com/2421deb9fcdc4d0f88...   \n",
       "4       https://www.reddit.com/r/airpods/comments/5jzk...   \n",
       "...                                                   ...   \n",
       "487250                    https://i.imgur.com/S2cx0Xj.jpg   \n",
       "487282  https://www.reddit.com/r/airpods/comments/11zb...   \n",
       "487283                https://i.redd.it/nat4gprz47ma1.jpg   \n",
       "487330              https://big-booty.mature.akterja.com/   \n",
       "487331  https://www.reddit.com/r/airpods/comments/11ho...   \n",
       "\n",
       "                                                 selftext body flair  level  \\\n",
       "0       anyone thinking of going with wired headphones...  NaN   NaN    NaN   \n",
       "1                                                     NaN  NaN   NaN    NaN   \n",
       "2                                               [deleted]  NaN   NaN    NaN   \n",
       "3                                                     NaN  NaN   NaN    NaN   \n",
       "4       Yup got a haircut today wearing the pods the w...  NaN   NaN    NaN   \n",
       "...                                                   ...  ...   ...    ...   \n",
       "487250                                                NaN  NaN   NaN    NaN   \n",
       "487282  Hi, I have the AirPods gen 3 and whenever I us...  NaN   NaN    NaN   \n",
       "487283                                                NaN  NaN   NaN    NaN   \n",
       "487330                                                NaN  NaN   NaN    NaN   \n",
       "487331  Sometimes the right one is quiet, sometimes th...  NaN   NaN    NaN   \n",
       "\n",
       "        top_parent  \n",
       "0              NaN  \n",
       "1              NaN  \n",
       "2              NaN  \n",
       "3              NaN  \n",
       "4              NaN  \n",
       "...            ...  \n",
       "487250         NaN  \n",
       "487282         NaN  \n",
       "487283         NaN  \n",
       "487330         NaN  \n",
       "487331         NaN  \n",
       "\n",
       "[73951 rows x 19 columns]"
      ]
     },
     "execution_count": 9,
     "metadata": {},
     "output_type": "execute_result"
    }
   ],
   "source": [
    "df[df[\"kind\"] == \"t3\"]"
   ]
  },
  {
   "cell_type": "code",
   "execution_count": 12,
   "id": "86c51082",
   "metadata": {},
   "outputs": [],
   "source": [
    "df_text = df[(~df[\"selftext\"].isna()) | (~df[\"body\"].isna())].copy()"
   ]
  },
  {
   "cell_type": "code",
   "execution_count": 13,
   "id": "e450202d",
   "metadata": {},
   "outputs": [
    {
     "data": {
      "text/plain": [
       "470655"
      ]
     },
     "execution_count": 13,
     "metadata": {},
     "output_type": "execute_result"
    }
   ],
   "source": [
    "len(df_text)"
   ]
  },
  {
   "cell_type": "code",
   "execution_count": 19,
   "id": "b424517f",
   "metadata": {},
   "outputs": [
    {
     "data": {
      "text/plain": [
       "95701"
      ]
     },
     "execution_count": 19,
     "metadata": {},
     "output_type": "execute_result"
    }
   ],
   "source": [
    "df_text[\"author\"].nunique()"
   ]
  },
  {
   "cell_type": "code",
   "execution_count": 20,
   "id": "44de01f0",
   "metadata": {},
   "outputs": [
    {
     "data": {
      "text/plain": [
       "[deleted]              65436\n",
       "toastyhoodie            2193\n",
       "Dragon-Rider-03         1558\n",
       "kmkmrod                 1102\n",
       "scottgetsittogether      823\n",
       "                       ...  \n",
       "DarklySpaced               1\n",
       "savagenibbster69           1\n",
       "getlegz                    1\n",
       "Metallbran88               1\n",
       "im0wen                     1\n",
       "Name: author, Length: 95701, dtype: int64"
      ]
     },
     "execution_count": 20,
     "metadata": {},
     "output_type": "execute_result"
    }
   ],
   "source": [
    "df_text[\"author\"].value_counts()"
   ]
  },
  {
   "cell_type": "code",
   "execution_count": 23,
   "id": "b8145dc2",
   "metadata": {},
   "outputs": [],
   "source": [
    "df_text[\"created_utc\"] = pd.to_datetime(df_text[\"created_utc\"])"
   ]
  },
  {
   "cell_type": "code",
   "execution_count": 24,
   "id": "e607d1a5",
   "metadata": {},
   "outputs": [
    {
     "data": {
      "text/plain": [
       "<Axes: xlabel='created_utc'>"
      ]
     },
     "execution_count": 24,
     "metadata": {},
     "output_type": "execute_result"
    },
    {
     "data": {
      "image/png": "[encoded data removed]",
      "text/plain": [
       "<Figure size 640x480 with 1 Axes>"
      ]
     },
     "metadata": {},
     "output_type": "display_data"
    }
   ],
   "source": [
    "df_text.set_index(\"created_utc\").resample(\"M\").count()[\"id\"].plot()"
   ]
  },
  {
   "cell_type": "code",
   "execution_count": 25,
   "id": "01ad35eb",
   "metadata": {},
   "outputs": [],
   "source": [
    "df_text[\"text\"] = df_text[\"selftext\"].fillna(\"\") + df_text[\"body\"].fillna(\"\")"
   ]
  },
  {
   "cell_type": "code",
   "execution_count": 27,
   "id": "ad02a65d",
   "metadata": {},
   "outputs": [
    {
     "data": {
      "text/plain": [
       "0         anyone thinking of going with wired headphones...\n",
       "2                                                 [deleted]\n",
       "4         Yup got a haircut today wearing the pods the w...\n",
       "5         That's really odd to wear headphones during a ...\n",
       "6         Wonder what he said about you when you weren't...\n",
       "                                ...                        \n",
       "487335                                                 True\n",
       "487336    What exactly needs to be done here and where o...\n",
       "487337    I just clean the inside part, where the wax is...\n",
       "487338                            Your ear is the problem 🗿\n",
       "487339                  Old firmware issue, waiting for fix\n",
       "Name: text, Length: 470655, dtype: object"
      ]
     },
     "execution_count": 27,
     "metadata": {},
     "output_type": "execute_result"
    }
   ],
   "source": [
    "df_text[\"text\"]"
   ]
  },
  {
   "cell_type": "code",
   "execution_count": 29,
   "id": "ad92809d",
   "metadata": {},
   "outputs": [],
   "source": [
    "df_not_delete = df_text[df_text[\"text\"] != \"[deleted]\"].copy()"
   ]
  },
  {
   "cell_type": "code",
   "execution_count": 30,
   "id": "8f80b9a1",
   "metadata": {},
   "outputs": [],
   "source": [
    "stopwords = set(pd.read_csv(\"https://github.com/christianw/applied-ux/raw/main/week03/stopwords.txt\", header=None)[0].values)"
   ]
  },
  {
   "cell_type": "code",
   "execution_count": 32,
   "id": "d8ecf790",
   "metadata": {},
   "outputs": [],
   "source": [
    "from collections import Counter"
   ]
  },
  {
   "cell_type": "code",
   "execution_count": 40,
   "id": "b7d11bbd",
   "metadata": {},
   "outputs": [
    {
     "name": "stdout",
     "output_type": "stream",
     "text": [
      "CPU times: user 2.03 s, sys: 16.4 ms, total: 2.05 s\n",
      "Wall time: 2.05 s\n"
     ]
    },
    {
     "data": {
      "text/plain": [
       "[('airpods', 105187),\n",
       " ('', 70108),\n",
       " ('apple', 51009),\n",
       " ('case', 43698),\n",
       " ('it’s', 35851),\n",
       " ('will', 32023),\n",
       " ('pro', 26571),\n",
       " ('i’m', 25923),\n",
       " ('don’t', 24388),\n",
       " ('sound', 24078),\n",
       " ('airpod', 23341),\n",
       " ('good', 18112),\n",
       " ('ear', 18067),\n",
       " ('gen', 17830),\n",
       " ('work', 17456),\n",
       " ('mine', 17094),\n",
       " ('buy', 17085),\n",
       " ('2', 17076),\n",
       " ('[removed]', 16658),\n",
       " ('pros', 16548)]"
      ]
     },
     "execution_count": 40,
     "metadata": {},
     "output_type": "execute_result"
    }
   ],
   "source": [
    "%%time\n",
    "words = Counter([str(w) for t in df_not_delete[\"text\"] \n",
    "                       for w in t.lower().split(\" \")\n",
    "                           if w not in stopwords])\n",
    "words.most_common(20)"
   ]
  },
  {
   "cell_type": "code",
   "execution_count": null,
   "id": "40e65d47",
   "metadata": {},
   "outputs": [],
   "source": []
  }
 ],
 "metadata": {
  "kernelspec": {
   "display_name": "Python 3 (ipykernel)",
   "language": "python",
   "name": "python3"
  },
  "language_info": {
   "codemirror_mode": {
    "name": "ipython",
    "version": 3
   },
   "file_extension": ".py",
   "mimetype": "text/x-python",
   "name": "python",
   "nbconvert_exporter": "python",
   "pygments_lexer": "ipython3",
   "version": "3.8.10"
  },
  "toc": {
   "base_numbering": 1,
   "nav_menu": {},
   "number_sections": true,
   "sideBar": true,
   "skip_h1_title": false,
   "title_cell": "Table of Contents",
   "title_sidebar": "Contents",
   "toc_cell": false,
   "toc_position": {},
   "toc_section_display": true,
   "toc_window_display": false
  }
 },
 "nbformat": 4,
 "nbformat_minor": 5
}
