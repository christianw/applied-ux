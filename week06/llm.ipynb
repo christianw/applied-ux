{
 "cells": [
  {
   "cell_type": "markdown",
   "id": "dc64a6ad",
   "metadata": {},
   "source": [
    "# Sentiments"
   ]
  },
  {
   "cell_type": "code",
   "execution_count": null,
   "id": "22cbfee2",
   "metadata": {},
   "outputs": [],
   "source": [
    "!pip install transformers"
   ]
  },
  {
   "cell_type": "code",
   "execution_count": null,
   "id": "fb258b93",
   "metadata": {},
   "outputs": [],
   "source": [
    "from transformers import pipeline"
   ]
  },
  {
   "cell_type": "code",
   "execution_count": null,
   "id": "1db28dcb",
   "metadata": {},
   "outputs": [],
   "source": [
    "sentiment = pipeline(\"sentiment-analysis\", \n",
    "                     model=\"nlptown/bert-base-multilingual-uncased-sentiment\")"
   ]
  },
  {
   "cell_type": "code",
   "execution_count": null,
   "id": "a53042b6",
   "metadata": {
    "scrolled": true
   },
   "outputs": [],
   "source": [
    "texts = [\"That does not work at all.\",\n",
    "         \"I am absolutely delighted.\",\n",
    "         \"Works like a charm.\",\n",
    "         \"J'aime beaucoup.\",\n",
    "         \"Der letzte Müll!\"]\n",
    "output = sentiment(texts)"
   ]
  },
  {
   "cell_type": "code",
   "execution_count": null,
   "id": "76fe380b",
   "metadata": {},
   "outputs": [],
   "source": [
    "import pandas as pd\n",
    "df = pd.DataFrame(output)\n",
    "df[\"text\"] = texts\n",
    "df"
   ]
  },
  {
   "cell_type": "markdown",
   "id": "906262ff",
   "metadata": {},
   "source": [
    "# Summarization"
   ]
  },
  {
   "cell_type": "code",
   "execution_count": null,
   "id": "164a824b",
   "metadata": {},
   "outputs": [],
   "source": [
    "!pip install readability-lxml"
   ]
  },
  {
   "cell_type": "code",
   "execution_count": null,
   "id": "d3b2c49e",
   "metadata": {},
   "outputs": [],
   "source": [
    "from readability import Document\n",
    "import requests\n",
    "from bs4 import BeautifulSoup\n",
    "doc = Document(requests.get(\"https://en.wikipedia.org/wiki/BERT_(language_model)\", \n",
    "                            stream=True).text)\n",
    "soup = BeautifulSoup(doc.summary())            \n",
    "content = soup.text\n",
    "content[0:4000]"
   ]
  },
  {
   "cell_type": "code",
   "execution_count": null,
   "id": "722e7934",
   "metadata": {},
   "outputs": [],
   "source": [
    "summarizer = pipeline(\"summarization\", model=\"sshleifer/distilbart-cnn-12-6\")"
   ]
  },
  {
   "cell_type": "code",
   "execution_count": null,
   "id": "039261be",
   "metadata": {},
   "outputs": [],
   "source": [
    "output = summarizer(content[0:4000])\n",
    "output"
   ]
  },
  {
   "cell_type": "code",
   "execution_count": null,
   "id": "1903ff5c",
   "metadata": {},
   "outputs": [],
   "source": []
  }
 ],
 "metadata": {
  "kernelspec": {
   "display_name": "Python 3 (ipykernel)",
   "language": "python",
   "name": "python3"
  },
  "language_info": {
   "codemirror_mode": {
    "name": "ipython",
    "version": 3
   },
   "file_extension": ".py",
   "mimetype": "text/x-python",
   "name": "python",
   "nbconvert_exporter": "python",
   "pygments_lexer": "ipython3",
   "version": "3.8.10"
  },
  "toc": {
   "base_numbering": 1,
   "nav_menu": {},
   "number_sections": true,
   "sideBar": true,
   "skip_h1_title": false,
   "title_cell": "Table of Contents",
   "title_sidebar": "Contents",
   "toc_cell": false,
   "toc_position": {},
   "toc_section_display": true,
   "toc_window_display": false
  }
 },
 "nbformat": 4,
 "nbformat_minor": 5
}
